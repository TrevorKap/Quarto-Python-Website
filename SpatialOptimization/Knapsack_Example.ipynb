{
  "nbformat": 4,
  "nbformat_minor": 0,
  "metadata": {
    "colab": {
      "provenance": []
    },
    "kernelspec": {
      "name": "python3",
      "display_name": "Python 3"
    },
    "language_info": {
      "name": "python"
    }
  },
  "cells": [
    {
      "cell_type": "markdown",
      "source": [
        "Example of use of the Pulp libray for a simple knapsack problem\n"
      ],
      "metadata": {
        "id": "Vqon6hU_p5Zc"
      }
    },
    {
      "cell_type": "code",
      "source": [
        "#Install pulp\n",
        "!pip install pulp\n",
        "\n",
        "# Import libraries\n",
        "from pulp import *\n",
        "import time"
      ],
      "metadata": {
        "colab": {
          "base_uri": "https://localhost:8080/"
        },
        "id": "1P57LuM8D2LX",
        "outputId": "c886aa41-904b-4032-ef39-c5e13bde71e2"
      },
      "execution_count": null,
      "outputs": [
        {
          "output_type": "stream",
          "name": "stdout",
          "text": [
            "Collecting pulp\n",
            "  Downloading PuLP-2.8.0-py3-none-any.whl (17.7 MB)\n",
            "\u001b[2K     \u001b[90m━━━━━━━━━━━━━━━━━━━━━━━━━━━━━━━━━━━━━━━━\u001b[0m \u001b[32m17.7/17.7 MB\u001b[0m \u001b[31m19.9 MB/s\u001b[0m eta \u001b[36m0:00:00\u001b[0m\n",
            "\u001b[?25hInstalling collected packages: pulp\n",
            "Successfully installed pulp-2.8.0\n"
          ]
        }
      ]
    },
    {
      "cell_type": "markdown",
      "source": [
        "Let set up our problem with the decision variables (items),\n",
        "with their **value** \"v\" and **weight** \"w\". We then set up the **capacity** of our bagpack."
      ],
      "metadata": {
        "id": "DoS-a3jAD_JD"
      }
    },
    {
      "cell_type": "code",
      "execution_count": null,
      "metadata": {
        "id": "nqop6jBN3f1l"
      },
      "outputs": [],
      "source": [
        "# A list of tuples of items (value, weight)\n",
        "# (value, volume)\n",
        "items = [(3,4), (8,5), (10,1.5), (2,0.5), (7,1),\n",
        " (10,2), (5,1.5), (9,1), (9,0.5), (6,0.5)]\n",
        "\n",
        "# number of items\n",
        "itemCount = len(items)\n",
        "\n",
        "# Knapsack max weight capacity\n",
        "binCapacity = 7\n"
      ]
    },
    {
      "cell_type": "markdown",
      "source": [
        "Here we set up our decision variables (the X), the lower and upper bounds, couple with the integer constrains (cat=Integer)  tells us the decision variable will be binary."
      ],
      "metadata": {
        "id": "UvajC5DwEa-y"
      }
    },
    {
      "cell_type": "code",
      "source": [
        "# Decision variables (array), x[i] gets 1 when item i is included in the solution\n",
        "x = pulp.LpVariable.dicts('item', range(itemCount),\n",
        "                            lowBound = 0,\n",
        "                            upBound = 1,\n",
        "                            cat = 'Integer')"
      ],
      "metadata": {
        "id": "sCga5lf53r9p"
      },
      "execution_count": null,
      "outputs": []
    },
    {
      "cell_type": "markdown",
      "source": [
        "Here we set up our problem (it is of maximization type, and it is a linear programming problem).\n",
        "\n",
        "We add the objective function (sum of the values), and the constraint (sum of the weights)."
      ],
      "metadata": {
        "id": "lNTYoSdtEuqq"
      }
    },
    {
      "cell_type": "code",
      "source": [
        "# Initialize the problem and specify the type\n",
        "problem = LpProblem(\"Knapsack Problem\", LpMaximize)\n",
        "\n",
        "# Add the objective function\n",
        "problem += lpSum([ x[i] * (items[i])[0] for i in range(itemCount) ]), \"Objective: Maximize profit\"\n",
        "\n",
        "# Capacity constraint: the sum of the weights must be less than the capacity\n",
        "problem += lpSum([ x[i] * (items[i])[1] for i in range(itemCount) ]) <= binCapacity, \"Constraint: Max capacity\""
      ],
      "metadata": {
        "id": "Ivvo_Gv4Ewf2"
      },
      "execution_count": null,
      "outputs": []
    },
    {
      "cell_type": "markdown",
      "source": [
        "Here we write the problem as an lp file and we then solve it, using the \"**solve**\" function. We also keep track of the time it takes."
      ],
      "metadata": {
        "id": "Kg3RFQTtFH9p"
      }
    },
    {
      "cell_type": "code",
      "source": [
        "#print problem.constraints\n",
        "\n",
        "# Write the model to disk, not necessary\n",
        "problem.writeLP(\"Knapsack.lp\")\n",
        "\n",
        "# Solve the optimization problem\n",
        "start_time = time.time()\n",
        "problem.solve()\n",
        "print(\"Solved in %s seconds.\" % (time.time() - start_time))"
      ],
      "metadata": {
        "colab": {
          "base_uri": "https://localhost:8080/"
        },
        "id": "m59sv2DHFIsh",
        "outputId": "9f0274d6-f3fa-41a0-8edb-9ffa3f206625"
      },
      "execution_count": null,
      "outputs": [
        {
          "output_type": "stream",
          "name": "stdout",
          "text": [
            "Solved in 0.011299371719360352 seconds.\n"
          ]
        }
      ]
    },
    {
      "cell_type": "markdown",
      "source": [
        "Finally, we report on the optimal solution, and whether each variable was chosen or not"
      ],
      "metadata": {
        "id": "88VBEX_sFZAy"
      }
    },
    {
      "cell_type": "code",
      "source": [
        "# Was the problem solved to optimality?\n",
        "print(\"Status:\", LpStatus[problem.status])\n",
        "\n",
        "# Each of the variables is printed with it's resolved optimum value\n",
        "for v in problem.variables():\n",
        "    print(v.name, \"=\", v.varValue)\n",
        "\n",
        "# The optimised objective function value is printed to the screen\n",
        "print(\"Total profit = \", value(problem.objective))"
      ],
      "metadata": {
        "colab": {
          "base_uri": "https://localhost:8080/"
        },
        "id": "UefDM7efFcX5",
        "outputId": "1c7834c8-189a-419b-e324-b1cb714ec60a"
      },
      "execution_count": null,
      "outputs": [
        {
          "output_type": "stream",
          "name": "stdout",
          "text": [
            "Status: Optimal\n",
            "item_0 = 0.0\n",
            "item_1 = 0.0\n",
            "item_2 = 1.0\n",
            "item_3 = 1.0\n",
            "item_4 = 1.0\n",
            "item_5 = 1.0\n",
            "item_6 = 0.0\n",
            "item_7 = 1.0\n",
            "item_8 = 1.0\n",
            "item_9 = 1.0\n",
            "Total profit =  53.0\n"
          ]
        }
      ]
    },
    {
      "cell_type": "markdown",
      "source": [
        "Here, somore more info about the solution"
      ],
      "metadata": {
        "id": "WlOnNuvAFsDb"
      }
    },
    {
      "cell_type": "code",
      "source": [
        "used_cap = 0.0\n",
        "print(\"Used items:\")\n",
        "for i in range(itemCount):\n",
        "    if x[i].value() == 1:\n",
        "        print(i, items[i])\n",
        "        used_cap += items[i][1]\n",
        "print(\"Profit: %d - Used capacity: %d (/ %d)\" % (value(problem.objective), used_cap, binCapacity))\n",
        "\n"
      ],
      "metadata": {
        "colab": {
          "base_uri": "https://localhost:8080/"
        },
        "id": "fzA_V18d4UR0",
        "outputId": "abc44331-5b91-4e1d-dedb-ddcdd2a6bc04"
      },
      "execution_count": null,
      "outputs": [
        {
          "output_type": "stream",
          "name": "stdout",
          "text": [
            "Used items:\n",
            "2 (10, 1.5)\n",
            "3 (2, 0.5)\n",
            "4 (7, 1)\n",
            "5 (10, 2)\n",
            "7 (9, 1)\n",
            "8 (9, 0.5)\n",
            "9 (6, 0.5)\n",
            "Profit: 53 - Used capacity: 7 (/ 7)\n"
          ]
        }
      ]
    }
  ]
}